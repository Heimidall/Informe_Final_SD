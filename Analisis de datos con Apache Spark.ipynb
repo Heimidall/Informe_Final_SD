{
 "cells": [
  {
   "cell_type": "code",
   "execution_count": 1,
   "metadata": {},
   "outputs": [],
   "source": [
    "import findspark\n",
    "findspark.init()\n",
    "import pyspark\n",
    "from pyspark.sql import SparkSession\n",
    "import pyspark.sql as sparksql\n",
    "import time\n",
    "import timeit"
   ]
  },
  {
   "cell_type": "code",
   "execution_count": 2,
   "metadata": {},
   "outputs": [],
   "source": [
    "spark = SparkSession.builder.appName('Prueba_1').getOrCreate()"
   ]
  },
  {
   "cell_type": "code",
   "execution_count": 3,
   "metadata": {},
   "outputs": [
    {
     "name": "stdout",
     "output_type": "stream",
     "text": [
      "+-----+------+----+------------+-------------+------------+-------------+--------------+-----------------+----+---------------+\n",
      "|   id|gender| age|hypertension|heart_disease|ever_married|    work_type|Residence_type|avg_glucose_level| bmi| smoking_status|\n",
      "+-----+------+----+------------+-------------+------------+-------------+--------------+-----------------+----+---------------+\n",
      "|36306|  Male|80.0|           0|            0|         Yes|      Private|         Urban|            83.84|21.1|formerly smoked|\n",
      "|61829|Female|74.0|           0|            1|         Yes|Self-employed|         Rural|            179.5|26.0|formerly smoked|\n",
      "|14152|Female|14.0|           0|            0|          No|     children|         Rural|            95.16|21.2|           null|\n",
      "|12997|  Male|28.0|           0|            0|          No|      Private|         Urban|            94.76|23.4|           null|\n",
      "|40801|Female|63.0|           0|            0|         Yes|     Govt_job|         Rural|            83.57|27.6|   never smoked|\n",
      "| 9348|Female|66.0|           1|            0|         Yes|      Private|         Urban|           219.98|32.2|   never smoked|\n",
      "|51550|Female|49.0|           0|            0|         Yes|Self-employed|         Rural|            74.03|25.1|           null|\n",
      "|60512|  Male|46.0|           0|            0|         Yes|     Govt_job|         Urban|            120.8|32.5|   never smoked|\n",
      "|31309|Female|75.0|           0|            0|         Yes|Self-employed|         Rural|            78.71|28.0|   never smoked|\n",
      "|39199|  Male|75.0|           0|            0|         Yes|Self-employed|         Urban|             77.2|25.7|         smokes|\n",
      "|15160|Female|17.0|           0|            0|          No|      Private|         Rural|            78.16|21.9|           null|\n",
      "|21705|Female|10.0|           0|            0|          No|     children|         Urban|           107.23|19.4|           null|\n",
      "|19042|Female|47.0|           0|            0|         Yes|      Private|         Rural|             91.6|26.7|   never smoked|\n",
      "|12249|Female|42.0|           0|            0|         Yes|      Private|         Urban|            83.05|32.3|           null|\n",
      "|33104|Female|67.0|           0|            0|         Yes|     Govt_job|         Urban|            236.6|24.2|   never smoked|\n",
      "|55264|Female|52.0|           0|            0|          No|Self-employed|         Urban|           109.49|24.5|   never smoked|\n",
      "|29445|  Male|73.0|           0|            0|         Yes|Self-employed|         Rural|           109.66|40.0|           null|\n",
      "|49013|Female|19.0|           0|            0|          No|      Private|         Rural|            88.51|22.1|           null|\n",
      "|  276|  Male|15.0|           0|            0|          No|     children|         Rural|           101.36|22.3|           null|\n",
      "|47721|Female|37.0|           0|            0|         Yes|     Govt_job|         Urban|           165.44|36.1|formerly smoked|\n",
      "+-----+------+----+------------+-------------+------------+-------------+--------------+-----------------+----+---------------+\n",
      "only showing top 20 rows\n",
      "\n",
      "Wall time: 3.71 s\n"
     ]
    }
   ],
   "source": [
    "%%time\n",
    "train = spark.read.csv('test_2v.csv', inferSchema=True,header=True)\n",
    "train.createOrReplaceTempView('table')\n",
    "result = spark.sql(\"SELECT * from table\")\n",
    "result.show()\n"
   ]
  },
  {
   "cell_type": "code",
   "execution_count": 4,
   "metadata": {
    "scrolled": true
   },
   "outputs": [
    {
     "name": "stdout",
     "output_type": "stream",
     "text": [
      "+-----+------+----+------------+-------------+------------+-------------+--------------+-----------------+----+---------------+------+\n",
      "|   id|gender| age|hypertension|heart_disease|ever_married|    work_type|Residence_type|avg_glucose_level| bmi| smoking_status|stroke|\n",
      "+-----+------+----+------------+-------------+------------+-------------+--------------+-----------------+----+---------------+------+\n",
      "|30669|  Male| 3.0|           0|            0|          No|     children|         Rural|            95.12|18.0|           null|     0|\n",
      "|30468|  Male|58.0|           1|            0|         Yes|      Private|         Urban|            87.96|39.2|   never smoked|     0|\n",
      "|16523|Female| 8.0|           0|            0|          No|      Private|         Urban|           110.89|17.6|           null|     0|\n",
      "|56543|Female|70.0|           0|            0|         Yes|      Private|         Rural|            69.04|35.9|formerly smoked|     0|\n",
      "|46136|  Male|14.0|           0|            0|          No| Never_worked|         Rural|           161.28|19.1|           null|     0|\n",
      "|32257|Female|47.0|           0|            0|         Yes|      Private|         Urban|           210.95|50.1|           null|     0|\n",
      "|52800|Female|52.0|           0|            0|         Yes|      Private|         Urban|            77.59|17.7|formerly smoked|     0|\n",
      "|41413|Female|75.0|           0|            1|         Yes|Self-employed|         Rural|           243.53|27.0|   never smoked|     0|\n",
      "|15266|Female|32.0|           0|            0|         Yes|      Private|         Rural|            77.67|32.3|         smokes|     0|\n",
      "|28674|Female|74.0|           1|            0|         Yes|Self-employed|         Urban|           205.84|54.6|   never smoked|     0|\n",
      "|10460|Female|79.0|           0|            0|         Yes|     Govt_job|         Urban|            77.08|35.0|           null|     0|\n",
      "|64908|  Male|79.0|           0|            1|         Yes|      Private|         Urban|            57.08|22.0|formerly smoked|     0|\n",
      "|63884|Female|37.0|           0|            0|         Yes|      Private|         Rural|           162.96|39.4|   never smoked|     0|\n",
      "|37893|Female|37.0|           0|            0|         Yes|      Private|         Rural|             73.5|26.1|formerly smoked|     0|\n",
      "|67855|Female|40.0|           0|            0|         Yes|      Private|         Rural|            95.04|42.4|   never smoked|     0|\n",
      "|25774|  Male|35.0|           0|            0|          No|      Private|         Rural|            85.37|33.0|   never smoked|     0|\n",
      "|19584|Female|20.0|           0|            0|          No|      Private|         Urban|            84.62|19.7|         smokes|     0|\n",
      "|24447|Female|42.0|           0|            0|         Yes|      Private|         Rural|            82.67|22.5|   never smoked|     0|\n",
      "|49589|Female|44.0|           0|            0|         Yes|     Govt_job|         Urban|            57.33|24.6|         smokes|     0|\n",
      "|17986|Female|79.0|           0|            1|         Yes|Self-employed|         Urban|            67.84|25.2|         smokes|     0|\n",
      "+-----+------+----+------------+-------------+------------+-------------+--------------+-----------------+----+---------------+------+\n",
      "only showing top 20 rows\n",
      "\n",
      "Wall time: 525 ms\n"
     ]
    }
   ],
   "source": [
    "%%time\n",
    "train = spark.read.csv('train_2v.csv', inferSchema=True,header=True)\n",
    "train.createOrReplaceTempView('table')\n",
    "result = spark.sql(\"SELECT * from table\")\n",
    "result.show()"
   ]
  },
  {
   "cell_type": "code",
   "execution_count": 5,
   "metadata": {},
   "outputs": [
    {
     "name": "stdout",
     "output_type": "stream",
     "text": [
      "+----+------------+------------+----------+-------------+-------------+-------------+-------------+--------------------+--------------------+--------------------+----------------+---------------+----------+--------------+--------------------------+--------------------+--------------------+---------------------+------------------+------------------+----------+-------+-----------+-----------------+------------------+----------+----------+--------------------+\n",
      "|Year|LocationAbbr|LocationDesc|Datasource|PriorityArea1|PriorityArea2|PriorityArea3|PriorityArea4|            Category|               Topic|           Indicator| Data_Value_Type|Data_Value_Unit|Data_Value|Data_Value_Alt|Data_Value_Footnote_Symbol| Data_Value_Footnote|Confidence_Limit_Low|Confidence_Limit_High|Break_Out_Category|         Break_out|CategoryID|TopicID|IndicatorID|Data_Value_TypeID|BreakoutCategoryID|BreakOutID|LocationID|         GeoLocation|\n",
      "+----+------------+------------+----------+-------------+-------------+-------------+-------------+--------------------+--------------------+--------------------+----------------+---------------+----------+--------------+--------------------------+--------------------+--------------------+---------------------+------------------+------------------+----------+-------+-----------+-----------------+------------------+----------+----------+--------------------+\n",
      "|2011|          AL|     Alabama|     BRFSS|         None|         None|         None|         None|Cardiovascular Di...|Major Cardiovascu...|Prevalence of maj...|Age-Standardized|    Percent (%)|       9.9|           9.9|                      null|                null|                 9.2|                 10.7|           Overall|           Overall|        C1|     T1|      BR001|          AgeStdz|             BOC01|     OVR01|         1|(32.8405711220004...|\n",
      "|2011|          AL|     Alabama|     BRFSS|         None|         None|         None|         None|Cardiovascular Di...|Major Cardiovascu...|Prevalence of maj...|           Crude|    Percent (%)|      11.0|          11.0|                      null|                null|                10.2|                 11.9|           Overall|           Overall|        C1|     T1|      BR001|            Crude|             BOC01|     OVR01|         1|(32.8405711220004...|\n",
      "|2011|          AL|     Alabama|     BRFSS|         None|         None|         None|         None|Cardiovascular Di...|Major Cardiovascu...|Prevalence of maj...|           Crude|    Percent (%)|      12.5|          12.5|                      null|                null|                11.1|                 14.0|            Gender|              Male|        C1|     T1|      BR001|            Crude|             BOC02|     GEN01|         1|(32.8405711220004...|\n",
      "|2011|          AL|     Alabama|     BRFSS|         None|         None|         None|         None|Cardiovascular Di...|Major Cardiovascu...|Prevalence of maj...|Age-Standardized|    Percent (%)|      11.8|          11.8|                      null|                null|                10.6|                 13.2|            Gender|              Male|        C1|     T1|      BR001|          AgeStdz|             BOC02|     GEN01|         1|(32.8405711220004...|\n",
      "|2011|          AL|     Alabama|     BRFSS|         None|         None|         None|         None|Cardiovascular Di...|Major Cardiovascu...|Prevalence of maj...|Age-Standardized|    Percent (%)|       8.3|           8.3|                      null|                null|                 7.5|                  9.1|            Gender|            Female|        C1|     T1|      BR001|          AgeStdz|             BOC02|     GEN02|         1|(32.8405711220004...|\n",
      "|2011|          AL|     Alabama|     BRFSS|         None|         None|         None|         None|Cardiovascular Di...|Major Cardiovascu...|Prevalence of maj...|           Crude|    Percent (%)|       9.6|           9.6|                      null|                null|                 8.7|                 10.6|            Gender|            Female|        C1|     T1|      BR001|            Crude|             BOC02|     GEN02|         1|(32.8405711220004...|\n",
      "|2011|          AL|     Alabama|     BRFSS|         None|         None|         None|         None|Cardiovascular Di...|Major Cardiovascu...|Prevalence of maj...|           Crude|    Percent (%)|      null|          -2.0|                         ~|Statistically uns...|                null|                 null|               Age|             18-24|        C1|     T1|      BR001|            Crude|             BOC03|     AGE01|         1|(32.8405711220004...|\n",
      "|2011|          AL|     Alabama|     BRFSS|         None|         None|         None|         None|Cardiovascular Di...|Major Cardiovascu...|Prevalence of maj...|           Crude|    Percent (%)|       3.8|           3.8|                      null|                null|                 2.7|                  5.4|               Age|             25-44|        C1|     T1|      BR001|            Crude|             BOC03|     AGE04|         1|(32.8405711220004...|\n",
      "|2011|          AL|     Alabama|     BRFSS|         None|         None|         None|         None|Cardiovascular Di...|Major Cardiovascu...|Prevalence of maj...|           Crude|    Percent (%)|      13.4|          13.4|                      null|                null|                11.9|                 15.0|               Age|             45-64|        C1|     T1|      BR001|            Crude|             BOC03|     AGE05|         1|(32.8405711220004...|\n",
      "|2011|          AL|     Alabama|     BRFSS|         None|         None|         None|         None|Cardiovascular Di...|Major Cardiovascu...|Prevalence of maj...|           Crude|    Percent (%)|      27.0|          27.0|                      null|                null|                24.8|                 29.3|               Age|               65+|        C1|     T1|      BR001|            Crude|             BOC03|     AGE06|         1|(32.8405711220004...|\n",
      "|2011|          AL|     Alabama|     BRFSS|         None|         None|         None|         None|Cardiovascular Di...|Major Cardiovascu...|Prevalence of maj...|           Crude|    Percent (%)|      15.2|          15.2|                      null|                null|                14.1|                 16.4|               Age|               35+|        C1|     T1|      BR001|            Crude|             BOC03|     AGE07|         1|(32.8405711220004...|\n",
      "|2011|          AL|     Alabama|     BRFSS|         None|         None|         None|         None|Cardiovascular Di...|Major Cardiovascu...|Prevalence of maj...|           Crude|    Percent (%)|      30.7|          30.7|                      null|                null|                27.3|                 34.2|               Age|               75+|        C1|     T1|      BR001|            Crude|             BOC03|     AGE08|         1|(32.8405711220004...|\n",
      "|2011|          AL|     Alabama|     BRFSS|         None|         None|         None|         None|Cardiovascular Di...|Major Cardiovascu...|Prevalence of maj...|           Crude|    Percent (%)|      11.5|          11.5|                      null|                null|                10.5|                 12.6|              Race|Non-Hispanic White|        C1|     T1|      BR001|            Crude|             BOC04|     RAC01|         1|(32.8405711220004...|\n",
      "|2011|          AL|     Alabama|     BRFSS|         None|         None|         None|         None|Cardiovascular Di...|Major Cardiovascu...|Prevalence of maj...|Age-Standardized|    Percent (%)|       9.5|           9.5|                      null|                null|                 8.7|                 10.4|              Race|Non-Hispanic White|        C1|     T1|      BR001|          AgeStdz|             BOC04|     RAC01|         1|(32.8405711220004...|\n",
      "|2011|          AL|     Alabama|     BRFSS|         None|         None|         None|         None|Cardiovascular Di...|Major Cardiovascu...|Prevalence of maj...|Age-Standardized|    Percent (%)|      10.2|          10.2|                      null|                null|                 8.7|                 12.0|              Race|Non-Hispanic Black|        C1|     T1|      BR001|          AgeStdz|             BOC04|     RAC02|         1|(32.8405711220004...|\n",
      "|2011|          AL|     Alabama|     BRFSS|         None|         None|         None|         None|Cardiovascular Di...|Major Cardiovascu...|Prevalence of maj...|           Crude|    Percent (%)|       9.6|           9.6|                      null|                null|                 8.0|                 11.4|              Race|Non-Hispanic Black|        C1|     T1|      BR001|            Crude|             BOC04|     RAC02|         1|(32.8405711220004...|\n",
      "|2011|          AL|     Alabama|     BRFSS|         None|         None|         None|         None|Cardiovascular Di...|Major Cardiovascu...|Prevalence of maj...|Age-Standardized|    Percent (%)|      null|          -2.0|                         ~|Statistically uns...|                null|                 null|              Race|Non-Hispanic Asian|        C1|     T1|      BR001|          AgeStdz|             BOC04|     RAC03|         1|(32.8405711220004...|\n",
      "|2011|          AL|     Alabama|     BRFSS|         None|         None|         None|         None|Cardiovascular Di...|Major Cardiovascu...|Prevalence of maj...|           Crude|    Percent (%)|      null|          -2.0|                         ~|Statistically uns...|                null|                 null|              Race|Non-Hispanic Asian|        C1|     T1|      BR001|            Crude|             BOC04|     RAC03|         1|(32.8405711220004...|\n",
      "|2011|          AL|     Alabama|     BRFSS|         None|         None|         None|         None|Cardiovascular Di...|Major Cardiovascu...|Prevalence of maj...|           Crude|    Percent (%)|      null|          -2.0|                         ~|Statistically uns...|                null|                 null|              Race|          Hispanic|        C1|     T1|      BR001|            Crude|             BOC04|     RAC04|         1|(32.8405711220004...|\n",
      "|2011|          AL|     Alabama|     BRFSS|         None|         None|         None|         None|Cardiovascular Di...|Major Cardiovascu...|Prevalence of maj...|Age-Standardized|    Percent (%)|       9.7|           9.7|                      null|                null|                 5.8|                 15.8|              Race|          Hispanic|        C1|     T1|      BR001|          AgeStdz|             BOC04|     RAC04|         1|(32.8405711220004...|\n",
      "+----+------------+------------+----------+-------------+-------------+-------------+-------------+--------------------+--------------------+--------------------+----------------+---------------+----------+--------------+--------------------------+--------------------+--------------------+---------------------+------------------+------------------+----------+-------+-----------+-----------------+------------------+----------+----------+--------------------+\n",
      "only showing top 20 rows\n",
      "\n",
      "Wall time: 569 ms\n"
     ]
    }
   ],
   "source": [
    "%%time\n",
    "train = spark.read.csv('dataset.csv', inferSchema=True,header=True)\n",
    "train.createOrReplaceTempView('table')\n",
    "result = spark.sql(\"SELECT * from table\")\n",
    "result.show()"
   ]
  },
  {
   "cell_type": "code",
   "execution_count": 6,
   "metadata": {},
   "outputs": [
    {
     "name": "stdout",
     "output_type": "stream",
     "text": [
      "+---+-------+--------------------+--------------------+------+-----+------------------+--------------------+-----------------+------------------+--------------------+\n",
      "|_c0|country|         description|         designation|points|price|          province|            region_1|         region_2|           variety|              winery|\n",
      "+---+-------+--------------------+--------------------+------+-----+------------------+--------------------+-----------------+------------------+--------------------+\n",
      "|  0|     US|This tremendous 1...|   Martha's Vineyard|    96|235.0|        California|         Napa Valley|             Napa|Cabernet Sauvignon|               Heitz|\n",
      "|  1|  Spain|Ripe aromas of fi...|Carodorum Selecci...|    96|110.0|    Northern Spain|                Toro|             null|     Tinta de Toro|Bodega Carmen Rod...|\n",
      "|  2|     US|Mac Watson honors...|Special Selected ...|    96| 90.0|        California|      Knights Valley|           Sonoma|   Sauvignon Blanc|            Macauley|\n",
      "|  3|     US|This spent 20 mon...|             Reserve|    96| 65.0|            Oregon|   Willamette Valley|Willamette Valley|        Pinot Noir|               Ponzi|\n",
      "|  4| France|This is the top w...|          La Brûlade|    95| 66.0|          Provence|              Bandol|             null|Provence red blend|Domaine de la Bégude|\n",
      "|  5|  Spain|Deep, dense and p...|           Numanthia|    95| 73.0|    Northern Spain|                Toro|             null|     Tinta de Toro|           Numanthia|\n",
      "|  6|  Spain|Slightly gritty b...|           San Román|    95| 65.0|    Northern Spain|                Toro|             null|     Tinta de Toro|            Maurodos|\n",
      "|  7|  Spain|Lush cedary black...|Carodorum Único C...|    95|110.0|    Northern Spain|                Toro|             null|     Tinta de Toro|Bodega Carmen Rod...|\n",
      "|  8|     US|This re-named vin...|              Silice|    95| 65.0|            Oregon|  Chehalem Mountains|Willamette Valley|        Pinot Noir|           Bergström|\n",
      "|  9|     US|The producer sour...|Gap's Crown Vineyard|    95| 60.0|        California|        Sonoma Coast|           Sonoma|        Pinot Noir|           Blue Farm|\n",
      "| 10|  Italy|Elegance, complex...|  Ronco della Chiesa|    95| 80.0|Northeastern Italy|              Collio|             null|          Friulano|    Borgo del Tiglio|\n",
      "| 11|     US|From 18-year-old ...|Estate Vineyard W...|    95| 48.0|            Oregon|        Ribbon Ridge|Willamette Valley|        Pinot Noir|Patricia Green Ce...|\n",
      "| 12|     US|A standout even i...|      Weber Vineyard|    95| 48.0|            Oregon|        Dundee Hills|Willamette Valley|        Pinot Noir|Patricia Green Ce...|\n",
      "| 13| France|This wine is in p...|Château Montus Pr...|    95| 90.0|  Southwest France|             Madiran|             null|            Tannat|   Vignobles Brumont|\n",
      "| 14|     US|With its sophisti...|      Grace Vineyard|    95|185.0|            Oregon|        Dundee Hills|Willamette Valley|        Pinot Noir|      Domaine Serene|\n",
      "| 15|     US|First made in 200...|              Sigrid|    95| 90.0|            Oregon|   Willamette Valley|Willamette Valley|        Chardonnay|           Bergström|\n",
      "| 16|     US|This blockbuster,...|     Rainin Vineyard|    95|325.0|        California|Diamond Mountain ...|             Napa|Cabernet Sauvignon|                Hall|\n",
      "| 17|  Spain|Nicely oaked blac...|6 Años Reserva Pr...|    95| 80.0|    Northern Spain|    Ribera del Duero|             null|       Tempranillo|            Valduero|\n",
      "| 18| France|Coming from a sev...|       Le Pigeonnier|    95|290.0|  Southwest France|              Cahors|             null|            Malbec|  Château Lagrézette|\n",
      "| 19|     US|This fresh and li...|Gap's Crown Vineyard|    95| 75.0|        California|        Sonoma Coast|           Sonoma|        Pinot Noir|        Gary Farrell|\n",
      "+---+-------+--------------------+--------------------+------+-----+------------------+--------------------+-----------------+------------------+--------------------+\n",
      "only showing top 20 rows\n",
      "\n",
      "Wall time: 546 ms\n"
     ]
    }
   ],
   "source": [
    "%%time\n",
    "train = spark.read.csv('winemag-data_first150k.csv', inferSchema=True,header=True)\n",
    "train.createOrReplaceTempView('table')\n",
    "result = spark.sql(\"SELECT * from table\")\n",
    "result.show()"
   ]
  },
  {
   "cell_type": "code",
   "execution_count": 7,
   "metadata": {},
   "outputs": [
    {
     "name": "stdout",
     "output_type": "stream",
     "text": [
      "+----------+-------------------+\n",
      "|listing_id|               date|\n",
      "+----------+-------------------+\n",
      "|      2015|2016-04-11 00:00:00|\n",
      "|      2015|2016-04-15 00:00:00|\n",
      "|      2015|2016-04-26 00:00:00|\n",
      "|      2015|2016-05-10 00:00:00|\n",
      "|      2015|2016-05-14 00:00:00|\n",
      "|      2015|2016-05-16 00:00:00|\n",
      "|      2015|2016-05-28 00:00:00|\n",
      "|      2015|2016-05-31 00:00:00|\n",
      "|      2015|2016-06-03 00:00:00|\n",
      "|      2015|2016-06-27 00:00:00|\n",
      "|      2015|2016-07-13 00:00:00|\n",
      "|      2015|2016-07-17 00:00:00|\n",
      "|      2015|2016-07-26 00:00:00|\n",
      "|      2015|2016-08-01 00:00:00|\n",
      "|      2015|2016-08-05 00:00:00|\n",
      "|      2015|2016-08-08 00:00:00|\n",
      "|      2015|2016-08-15 00:00:00|\n",
      "|      2015|2016-09-01 00:00:00|\n",
      "|      2015|2016-09-03 00:00:00|\n",
      "|      2015|2016-09-08 00:00:00|\n",
      "+----------+-------------------+\n",
      "only showing top 20 rows\n",
      "\n",
      "Wall time: 1.37 s\n"
     ]
    }
   ],
   "source": [
    "%%time\n",
    "train = spark.read.csv('reviews.csv', inferSchema=True,header=True)\n",
    "train.createOrReplaceTempView('table')\n",
    "result = spark.sql(\"SELECT * from table\")\n",
    "result.show()"
   ]
  }
 ],
 "metadata": {
  "kernelspec": {
   "display_name": "Python 3",
   "language": "python",
   "name": "python3"
  },
  "language_info": {
   "codemirror_mode": {
    "name": "ipython",
    "version": 3
   },
   "file_extension": ".py",
   "mimetype": "text/x-python",
   "name": "python",
   "nbconvert_exporter": "python",
   "pygments_lexer": "ipython3",
   "version": "3.7.1"
  }
 },
 "nbformat": 4,
 "nbformat_minor": 2
}
